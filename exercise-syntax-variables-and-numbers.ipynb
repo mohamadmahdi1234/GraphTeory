{
 "cells": [
  {
   "cell_type": "markdown",
   "id": "e4c8471a",
   "metadata": {
    "papermill": {
     "duration": 0.009131,
     "end_time": "2023-02-21T11:47:54.666736",
     "exception": false,
     "start_time": "2023-02-21T11:47:54.657605",
     "status": "completed"
    },
    "tags": []
   },
   "source": [
    "**This notebook is an exercise in the [Python](https://www.kaggle.com/learn/python) course.  You can reference the tutorial at [this link](https://www.kaggle.com/colinmorris/hello-python).**\n",
    "\n",
    "---\n"
   ]
  },
  {
   "cell_type": "markdown",
   "id": "0cac1009",
   "metadata": {
    "papermill": {
     "duration": 0.006465,
     "end_time": "2023-02-21T11:47:54.680285",
     "exception": false,
     "start_time": "2023-02-21T11:47:54.673820",
     "status": "completed"
    },
    "tags": []
   },
   "source": [
    "Welcome to your first set of Python coding problems.  If this is your first time using Kaggle Notebooks, welcome! \n",
    "\n",
    "Notebooks are composed of blocks (called \"cells\") of text and code. Each of these is editable, though you'll mainly be editing the code cells to answer some questions.\n",
    "\n",
    "To get started, try running the code cell below (by pressing the ► button, or clicking on the cell and pressing ctrl+enter on your keyboard)."
   ]
  },
  {
   "cell_type": "code",
   "execution_count": 1,
   "id": "0fa70adc",
   "metadata": {
    "execution": {
     "iopub.execute_input": "2023-02-21T11:47:54.696021Z",
     "iopub.status.busy": "2023-02-21T11:47:54.695479Z",
     "iopub.status.idle": "2023-02-21T11:47:54.708273Z",
     "shell.execute_reply": "2023-02-21T11:47:54.705659Z"
    },
    "papermill": {
     "duration": 0.024665,
     "end_time": "2023-02-21T11:47:54.711552",
     "exception": false,
     "start_time": "2023-02-21T11:47:54.686887",
     "status": "completed"
    },
    "tags": []
   },
   "outputs": [
    {
     "name": "stdout",
     "output_type": "stream",
     "text": [
      "You've successfully run some Python code\n",
      "Congratulations!\n"
     ]
    }
   ],
   "source": [
    "print(\"You've successfully run some Python code\")\n",
    "print(\"Congratulations!\")"
   ]
  },
  {
   "cell_type": "code",
   "execution_count": 2,
   "id": "1c1d85e7",
   "metadata": {
    "execution": {
     "iopub.execute_input": "2023-02-21T11:47:54.727010Z",
     "iopub.status.busy": "2023-02-21T11:47:54.726572Z",
     "iopub.status.idle": "2023-02-21T11:47:54.732573Z",
     "shell.execute_reply": "2023-02-21T11:47:54.731386Z"
    },
    "papermill": {
     "duration": 0.016398,
     "end_time": "2023-02-21T11:47:54.734936",
     "exception": false,
     "start_time": "2023-02-21T11:47:54.718538",
     "status": "completed"
    },
    "tags": []
   },
   "outputs": [
    {
     "name": "stdout",
     "output_type": "stream",
     "text": [
      "new cell\n"
     ]
    }
   ],
   "source": [
    "print(\"new cell\")"
   ]
  },
  {
   "cell_type": "markdown",
   "id": "f9d07056",
   "metadata": {
    "papermill": {
     "duration": 0.006515,
     "end_time": "2023-02-21T11:47:54.748411",
     "exception": false,
     "start_time": "2023-02-21T11:47:54.741896",
     "status": "completed"
    },
    "tags": []
   },
   "source": [
    "Try adding another line of code in the cell above and re-running it. \n",
    "\n",
    "Now let's get a little fancier:  Add a new code cell by clicking on an existing code cell, hitting the escape key, and then hitting the `a` or `b` key.  The `a` key will add a cell above the current cell, and `b` adds a cell below.\n",
    "\n",
    "Great! Now you know how to use Notebooks.\n",
    "\n",
    "Each hands-on exercise starts by setting up our feedback and code checking mechanism. Run the code cell below to do that. Then you'll be ready to move on to question 0."
   ]
  },
  {
   "cell_type": "code",
   "execution_count": 3,
   "id": "9f5d9ead",
   "metadata": {
    "_kg_hide-input": true,
    "_kg_hide-output": true,
    "execution": {
     "iopub.execute_input": "2023-02-21T11:47:54.763940Z",
     "iopub.status.busy": "2023-02-21T11:47:54.763476Z",
     "iopub.status.idle": "2023-02-21T11:47:54.809302Z",
     "shell.execute_reply": "2023-02-21T11:47:54.808013Z"
    },
    "papermill": {
     "duration": 0.056477,
     "end_time": "2023-02-21T11:47:54.811940",
     "exception": false,
     "start_time": "2023-02-21T11:47:54.755463",
     "status": "completed"
    },
    "tags": []
   },
   "outputs": [
    {
     "name": "stdout",
     "output_type": "stream",
     "text": [
      "Setup complete! You're ready to start question 0.\n"
     ]
    }
   ],
   "source": [
    "from learntools.core import binder; binder.bind(globals())\n",
    "from learntools.python.ex1 import *\n",
    "print(\"Setup complete! You're ready to start question 0.\")"
   ]
  },
  {
   "cell_type": "markdown",
   "id": "1e156661",
   "metadata": {
    "papermill": {
     "duration": 0.006781,
     "end_time": "2023-02-21T11:47:54.825686",
     "exception": false,
     "start_time": "2023-02-21T11:47:54.818905",
     "status": "completed"
    },
    "tags": []
   },
   "source": [
    "# 0.\n",
    "\n",
    "*This is a silly question intended as an introduction to the format we use for hands-on exercises throughout all Kaggle courses.*\n",
    "\n",
    "**What is your favorite color? **\n",
    "\n",
    "To complete this question, create a variable called `color` in the cell below with an appropriate value. The function call `q0.check()` (which we've already provided in the cell below) will check your answer."
   ]
  },
  {
   "cell_type": "code",
   "execution_count": 4,
   "id": "8ec008f1",
   "metadata": {
    "execution": {
     "iopub.execute_input": "2023-02-21T11:47:54.841730Z",
     "iopub.status.busy": "2023-02-21T11:47:54.841302Z",
     "iopub.status.idle": "2023-02-21T11:47:54.853595Z",
     "shell.execute_reply": "2023-02-21T11:47:54.852350Z"
    },
    "papermill": {
     "duration": 0.022995,
     "end_time": "2023-02-21T11:47:54.855946",
     "exception": false,
     "start_time": "2023-02-21T11:47:54.832951",
     "status": "completed"
    },
    "tags": []
   },
   "outputs": [
    {
     "data": {
      "application/javascript": [
       "parent.postMessage({\"jupyterEvent\": \"custom.exercise_interaction\", \"data\": {\"outcomeType\": 1, \"valueTowardsCompletion\": 0.25, \"interactionType\": 1, \"questionType\": 2, \"questionId\": \"0_ExerciseFormatTutorial\", \"learnToolsVersion\": \"0.3.4\", \"failureMessage\": \"\", \"exceptionClass\": \"\", \"trace\": \"\"}}, \"*\")"
      ],
      "text/plain": [
       "<IPython.core.display.Javascript object>"
      ]
     },
     "metadata": {},
     "output_type": "display_data"
    },
    {
     "data": {
      "text/markdown": [
       "<span style=\"color:#33cc33\">Correct:</span> What?! You got it right without needing a hint or anything? Drats. Well hey, you should still continue to the next step to get some practice asking for a hint and checking solutions. (Even though you obviously don't need any help here.)"
      ],
      "text/plain": [
       "Correct: What?! You got it right without needing a hint or anything? Drats. Well hey, you should still continue to the next step to get some practice asking for a hint and checking solutions. (Even though you obviously don't need any help here.)"
      ]
     },
     "metadata": {},
     "output_type": "display_data"
    }
   ],
   "source": [
    "# create a variable called color with an appropriate value on the line below\n",
    "# (Remember, strings in Python must be enclosed in 'single' or \"double\" quotes)\n",
    "____\n",
    "color = \"blue\"\n",
    "# Check your answer\n",
    "q0.check()"
   ]
  },
  {
   "cell_type": "markdown",
   "id": "e78723a8",
   "metadata": {
    "papermill": {
     "duration": 0.00683,
     "end_time": "2023-02-21T11:47:54.869933",
     "exception": false,
     "start_time": "2023-02-21T11:47:54.863103",
     "status": "completed"
    },
    "tags": []
   },
   "source": [
    "Didn't get the right answer? How do you not even know your own favorite color?!\n",
    "\n",
    "Delete the `#` in the line below to make one of the lines run. You can choose between getting a hint or the full answer by choosing which line to remove the `#` from. \n",
    "\n",
    "Removing the `#` is called uncommenting, because it changes that line from a \"comment\" which Python doesn't run to code, which Python does run."
   ]
  },
  {
   "cell_type": "code",
   "execution_count": 5,
   "id": "db8e6e95",
   "metadata": {
    "execution": {
     "iopub.execute_input": "2023-02-21T11:47:54.886897Z",
     "iopub.status.busy": "2023-02-21T11:47:54.886018Z",
     "iopub.status.idle": "2023-02-21T11:47:54.895943Z",
     "shell.execute_reply": "2023-02-21T11:47:54.894951Z"
    },
    "papermill": {
     "duration": 0.021167,
     "end_time": "2023-02-21T11:47:54.898192",
     "exception": false,
     "start_time": "2023-02-21T11:47:54.877025",
     "status": "completed"
    },
    "tags": []
   },
   "outputs": [
    {
     "data": {
      "application/javascript": [
       "parent.postMessage({\"jupyterEvent\": \"custom.exercise_interaction\", \"data\": {\"interactionType\": 2, \"questionType\": 2, \"questionId\": \"0_ExerciseFormatTutorial\", \"learnToolsVersion\": \"0.3.4\", \"valueTowardsCompletion\": 0.0, \"failureMessage\": \"\", \"exceptionClass\": \"\", \"trace\": \"\", \"outcomeType\": 4}}, \"*\")"
      ],
      "text/plain": [
       "<IPython.core.display.Javascript object>"
      ]
     },
     "metadata": {},
     "output_type": "display_data"
    },
    {
     "data": {
      "text/markdown": [
       "<span style=\"color:#3366cc\">Hint:</span> Your favorite color rhymes with *glue*."
      ],
      "text/plain": [
       "Hint: Your favorite color rhymes with *glue*."
      ]
     },
     "metadata": {},
     "output_type": "display_data"
    }
   ],
   "source": [
    "q0.hint()\n",
    "#q0.solution()"
   ]
  },
  {
   "cell_type": "markdown",
   "id": "18687f4e",
   "metadata": {
    "papermill": {
     "duration": 0.008409,
     "end_time": "2023-02-21T11:47:54.914062",
     "exception": false,
     "start_time": "2023-02-21T11:47:54.905653",
     "status": "completed"
    },
    "tags": []
   },
   "source": [
    "The upcoming questions work the same way. The only thing that will change are the question numbers. For the next question, you'll call `q1.check()`, `q1.hint()`, `q1.solution()`, for question 2, you'll call `q2.check()`, and so on."
   ]
  },
  {
   "cell_type": "markdown",
   "id": "e991ce2d",
   "metadata": {
    "papermill": {
     "duration": 0.007085,
     "end_time": "2023-02-21T11:47:54.928768",
     "exception": false,
     "start_time": "2023-02-21T11:47:54.921683",
     "status": "completed"
    },
    "tags": []
   },
   "source": [
    "<hr/>\n",
    "\n",
    "# 1.\n",
    "\n",
    "Complete the code below. In case it's helpful, here is the table of available arithmetic operations:\n",
    "\n",
    "\n",
    "\n",
    "| Operator     | Name           | Description                                            |\n",
    "|--------------|----------------|--------------------------------------------------------|\n",
    "| ``a + b``    | Addition       | Sum of ``a`` and ``b``                                 |\n",
    "| ``a - b``    | Subtraction    | Difference of ``a`` and ``b``                          |\n",
    "| ``a * b``    | Multiplication | Product of ``a`` and ``b``                             |\n",
    "| ``a / b``    | True division  | Quotient of ``a`` and ``b``                            |\n",
    "| ``a // b``   | Floor division | Quotient of ``a`` and ``b``, removing fractional parts |\n",
    "| ``a % b``    | Modulus        | Integer remainder after division of ``a`` by ``b``     |\n",
    "| ``a ** b``   | Exponentiation | ``a`` raised to the power of ``b``                     |\n",
    "| ``-a``       | Negation       | The negative of ``a``                                  |\n",
    "\n",
    "<span style=\"display:none\"></span>\n"
   ]
  },
  {
   "cell_type": "code",
   "execution_count": 6,
   "id": "ce042bd3",
   "metadata": {
    "execution": {
     "iopub.execute_input": "2023-02-21T11:47:54.945784Z",
     "iopub.status.busy": "2023-02-21T11:47:54.945019Z",
     "iopub.status.idle": "2023-02-21T11:47:54.954522Z",
     "shell.execute_reply": "2023-02-21T11:47:54.953417Z"
    },
    "papermill": {
     "duration": 0.020568,
     "end_time": "2023-02-21T11:47:54.956851",
     "exception": false,
     "start_time": "2023-02-21T11:47:54.936283",
     "status": "completed"
    },
    "tags": []
   },
   "outputs": [
    {
     "data": {
      "application/javascript": [
       "parent.postMessage({\"jupyterEvent\": \"custom.exercise_interaction\", \"data\": {\"outcomeType\": 1, \"valueTowardsCompletion\": 0.25, \"interactionType\": 1, \"questionType\": 1, \"questionId\": \"1_CircleArea\", \"learnToolsVersion\": \"0.3.4\", \"failureMessage\": \"\", \"exceptionClass\": \"\", \"trace\": \"\"}}, \"*\")"
      ],
      "text/plain": [
       "<IPython.core.display.Javascript object>"
      ]
     },
     "metadata": {},
     "output_type": "display_data"
    },
    {
     "data": {
      "text/markdown": [
       "<span style=\"color:#33cc33\">Correct</span>"
      ],
      "text/plain": [
       "Correct"
      ]
     },
     "metadata": {},
     "output_type": "display_data"
    }
   ],
   "source": [
    "pi = 3.14159 # approximate\n",
    "diameter = 3\n",
    "\n",
    "# Create a variable called 'radius' equal to half the diameter\n",
    "radius  = diameter/2\n",
    "____\n",
    "\n",
    "# Create a variable called 'area', using the formula for the area of a circle: pi times the radius squared\n",
    "area  = pi * (radius**2)\n",
    "____\n",
    "\n",
    "# Check your answer\n",
    "q1.check()"
   ]
  },
  {
   "cell_type": "code",
   "execution_count": 7,
   "id": "13a7e999",
   "metadata": {
    "execution": {
     "iopub.execute_input": "2023-02-21T11:47:54.985887Z",
     "iopub.status.busy": "2023-02-21T11:47:54.984663Z",
     "iopub.status.idle": "2023-02-21T11:47:54.991723Z",
     "shell.execute_reply": "2023-02-21T11:47:54.990113Z"
    },
    "papermill": {
     "duration": 0.029908,
     "end_time": "2023-02-21T11:47:54.994778",
     "exception": false,
     "start_time": "2023-02-21T11:47:54.964870",
     "status": "completed"
    },
    "tags": []
   },
   "outputs": [],
   "source": [
    "# Uncomment and run the lines below if you need help.\n",
    "#q1.hint()\n",
    "#q1.solution()"
   ]
  },
  {
   "cell_type": "markdown",
   "id": "151e92a1",
   "metadata": {
    "papermill": {
     "duration": 0.00852,
     "end_time": "2023-02-21T11:47:55.014746",
     "exception": false,
     "start_time": "2023-02-21T11:47:55.006226",
     "status": "completed"
    },
    "tags": []
   },
   "source": [
    "<hr/>\n",
    "\n",
    "# 2.\n",
    "\n",
    "Add code to the following cell to swap variables `a` and `b` (so that `a` refers to the object previously referred to by `b` and vice versa)."
   ]
  },
  {
   "cell_type": "code",
   "execution_count": 8,
   "id": "ef2f79a3",
   "metadata": {
    "execution": {
     "iopub.execute_input": "2023-02-21T11:47:55.037801Z",
     "iopub.status.busy": "2023-02-21T11:47:55.037057Z",
     "iopub.status.idle": "2023-02-21T11:47:55.046737Z",
     "shell.execute_reply": "2023-02-21T11:47:55.045649Z"
    },
    "papermill": {
     "duration": 0.02356,
     "end_time": "2023-02-21T11:47:55.048954",
     "exception": false,
     "start_time": "2023-02-21T11:47:55.025394",
     "status": "completed"
    },
    "tags": []
   },
   "outputs": [
    {
     "data": {
      "application/javascript": [
       "parent.postMessage({\"jupyterEvent\": \"custom.exercise_interaction\", \"data\": {\"outcomeType\": 1, \"valueTowardsCompletion\": 0.25, \"interactionType\": 1, \"questionType\": 2, \"questionId\": \"2_VariableSwap\", \"learnToolsVersion\": \"0.3.4\", \"failureMessage\": \"\", \"exceptionClass\": \"\", \"trace\": \"\"}}, \"*\")"
      ],
      "text/plain": [
       "<IPython.core.display.Javascript object>"
      ]
     },
     "metadata": {},
     "output_type": "display_data"
    },
    {
     "data": {
      "text/markdown": [
       "<span style=\"color:#33cc33\">Correct:</span> \n",
       "\n",
       "The most straightforward solution is to use a third variable to temporarily store one of the old values. e.g.:\n",
       "\n",
       "    tmp = a\n",
       "    a = b\n",
       "    b = tmp\n",
       "\n",
       "If you've read lots of Python code, you might have seen the following trick to swap two variables in one line:\n",
       "\n",
       "    a, b = b, a\n",
       "\n",
       "We'll demystify this bit of Python magic later when we talk about *tuples*."
      ],
      "text/plain": [
       "Correct: \n",
       "\n",
       "The most straightforward solution is to use a third variable to temporarily store one of the old values. e.g.:\n",
       "\n",
       "    tmp = a\n",
       "    a = b\n",
       "    b = tmp\n",
       "\n",
       "If you've read lots of Python code, you might have seen the following trick to swap two variables in one line:\n",
       "\n",
       "    a, b = b, a\n",
       "\n",
       "We'll demystify this bit of Python magic later when we talk about *tuples*."
      ]
     },
     "metadata": {},
     "output_type": "display_data"
    }
   ],
   "source": [
    "########### Setup code - don't touch this part ######################\n",
    "# If you're curious, these are examples of lists. We'll talk about \n",
    "# them in depth a few lessons from now. For now, just know that they're\n",
    "# yet another type of Python object, like int or float.\n",
    "a = [1, 2, 3]\n",
    "b = [3, 2, 1]\n",
    "q2.store_original_ids()\n",
    "######################################################################\n",
    "\n",
    "# Your code goes here. Swap the values to which a and b refer.\n",
    "# If you get stuck, you can always uncomment one or both of the lines in\n",
    "# the next cell for a hint, or to peek at the solution.\n",
    "c = a \n",
    "a = b\n",
    "b = c\n",
    "######################################################################\n",
    "\n",
    "# Check your answer\n",
    "q2.check()"
   ]
  },
  {
   "cell_type": "code",
   "execution_count": 9,
   "id": "4f78067e",
   "metadata": {
    "execution": {
     "iopub.execute_input": "2023-02-21T11:47:55.066609Z",
     "iopub.status.busy": "2023-02-21T11:47:55.066190Z",
     "iopub.status.idle": "2023-02-21T11:47:55.071439Z",
     "shell.execute_reply": "2023-02-21T11:47:55.069995Z"
    },
    "papermill": {
     "duration": 0.016939,
     "end_time": "2023-02-21T11:47:55.073837",
     "exception": false,
     "start_time": "2023-02-21T11:47:55.056898",
     "status": "completed"
    },
    "tags": []
   },
   "outputs": [],
   "source": [
    "#q2.hint()"
   ]
  },
  {
   "cell_type": "code",
   "execution_count": 10,
   "id": "5b6a9664",
   "metadata": {
    "execution": {
     "iopub.execute_input": "2023-02-21T11:47:55.091620Z",
     "iopub.status.busy": "2023-02-21T11:47:55.091234Z",
     "iopub.status.idle": "2023-02-21T11:47:55.096179Z",
     "shell.execute_reply": "2023-02-21T11:47:55.094967Z"
    },
    "papermill": {
     "duration": 0.016327,
     "end_time": "2023-02-21T11:47:55.098348",
     "exception": false,
     "start_time": "2023-02-21T11:47:55.082021",
     "status": "completed"
    },
    "tags": []
   },
   "outputs": [],
   "source": [
    "#q2.solution()"
   ]
  },
  {
   "cell_type": "markdown",
   "id": "3ecbaaf3",
   "metadata": {
    "papermill": {
     "duration": 0.007788,
     "end_time": "2023-02-21T11:47:55.114607",
     "exception": false,
     "start_time": "2023-02-21T11:47:55.106819",
     "status": "completed"
    },
    "tags": []
   },
   "source": [
    "<hr/>\n",
    "\n",
    "# 3a.\n",
    "\n",
    "Add parentheses to the following expression so that it evaluates to 1."
   ]
  },
  {
   "cell_type": "code",
   "execution_count": 11,
   "id": "a0937225",
   "metadata": {
    "execution": {
     "iopub.execute_input": "2023-02-21T11:47:55.133137Z",
     "iopub.status.busy": "2023-02-21T11:47:55.132048Z",
     "iopub.status.idle": "2023-02-21T11:47:55.139394Z",
     "shell.execute_reply": "2023-02-21T11:47:55.138199Z"
    },
    "papermill": {
     "duration": 0.018883,
     "end_time": "2023-02-21T11:47:55.141543",
     "exception": false,
     "start_time": "2023-02-21T11:47:55.122660",
     "status": "completed"
    },
    "tags": []
   },
   "outputs": [
    {
     "data": {
      "text/plain": [
       "1"
      ]
     },
     "execution_count": 11,
     "metadata": {},
     "output_type": "execute_result"
    }
   ],
   "source": [
    "(5 - 3 )// 2"
   ]
  },
  {
   "cell_type": "code",
   "execution_count": 12,
   "id": "0fb8c227",
   "metadata": {
    "execution": {
     "iopub.execute_input": "2023-02-21T11:47:55.160118Z",
     "iopub.status.busy": "2023-02-21T11:47:55.159484Z",
     "iopub.status.idle": "2023-02-21T11:47:55.164037Z",
     "shell.execute_reply": "2023-02-21T11:47:55.163204Z"
    },
    "papermill": {
     "duration": 0.016779,
     "end_time": "2023-02-21T11:47:55.166394",
     "exception": false,
     "start_time": "2023-02-21T11:47:55.149615",
     "status": "completed"
    },
    "tags": []
   },
   "outputs": [],
   "source": [
    "#q3.a.hint()"
   ]
  },
  {
   "cell_type": "code",
   "execution_count": 13,
   "id": "db243fe2",
   "metadata": {
    "execution": {
     "iopub.execute_input": "2023-02-21T11:47:55.185151Z",
     "iopub.status.busy": "2023-02-21T11:47:55.184485Z",
     "iopub.status.idle": "2023-02-21T11:47:55.193349Z",
     "shell.execute_reply": "2023-02-21T11:47:55.192405Z"
    },
    "papermill": {
     "duration": 0.020536,
     "end_time": "2023-02-21T11:47:55.195510",
     "exception": false,
     "start_time": "2023-02-21T11:47:55.174974",
     "status": "completed"
    },
    "tags": []
   },
   "outputs": [
    {
     "data": {
      "application/javascript": [
       "parent.postMessage({\"jupyterEvent\": \"custom.exercise_interaction\", \"data\": {\"interactionType\": 3, \"questionType\": 4, \"questionId\": \"3.1_ArithmeticParensEasy\", \"learnToolsVersion\": \"0.3.4\", \"valueTowardsCompletion\": 0.0, \"failureMessage\": \"\", \"exceptionClass\": \"\", \"trace\": \"\", \"outcomeType\": 4}}, \"*\")"
      ],
      "text/plain": [
       "<IPython.core.display.Javascript object>"
      ]
     },
     "metadata": {},
     "output_type": "display_data"
    },
    {
     "data": {
      "text/markdown": [
       "<span style=\"color:#33cc99\">Solution:</span> \n",
       "```python\n",
       "(5 - 3) // 2\n",
       "```"
      ],
      "text/plain": [
       "Solution: \n",
       "```python\n",
       "(5 - 3) // 2\n",
       "```"
      ]
     },
     "metadata": {},
     "output_type": "display_data"
    }
   ],
   "source": [
    "# Check your answer (Run this code cell to receive credit!)\n",
    "q3.a.solution()"
   ]
  },
  {
   "cell_type": "markdown",
   "id": "ea52ca2d",
   "metadata": {
    "papermill": {
     "duration": 0.008321,
     "end_time": "2023-02-21T11:47:55.212067",
     "exception": false,
     "start_time": "2023-02-21T11:47:55.203746",
     "status": "completed"
    },
    "tags": []
   },
   "source": [
    "# 3b.  <span title=\"A bit spicy\" style=\"color: darkgreen \">🌶️</span>\n",
    "\n",
    "<small>Questions, like this one, marked a spicy pepper are a bit harder.</small>\n",
    "\n",
    "Add parentheses to the following expression so that it evaluates to 0."
   ]
  },
  {
   "cell_type": "code",
   "execution_count": 14,
   "id": "a1a2ab98",
   "metadata": {
    "execution": {
     "iopub.execute_input": "2023-02-21T11:47:55.230664Z",
     "iopub.status.busy": "2023-02-21T11:47:55.230247Z",
     "iopub.status.idle": "2023-02-21T11:47:55.237827Z",
     "shell.execute_reply": "2023-02-21T11:47:55.236645Z"
    },
    "papermill": {
     "duration": 0.019741,
     "end_time": "2023-02-21T11:47:55.240288",
     "exception": false,
     "start_time": "2023-02-21T11:47:55.220547",
     "status": "completed"
    },
    "tags": []
   },
   "outputs": [
    {
     "data": {
      "text/plain": [
       "0"
      ]
     },
     "execution_count": 14,
     "metadata": {},
     "output_type": "execute_result"
    }
   ],
   "source": [
    "(8 - 3) * (2 - (1 + 1))"
   ]
  },
  {
   "cell_type": "code",
   "execution_count": 15,
   "id": "30916ebe",
   "metadata": {
    "execution": {
     "iopub.execute_input": "2023-02-21T11:47:55.260429Z",
     "iopub.status.busy": "2023-02-21T11:47:55.259619Z",
     "iopub.status.idle": "2023-02-21T11:47:55.264441Z",
     "shell.execute_reply": "2023-02-21T11:47:55.263610Z"
    },
    "papermill": {
     "duration": 0.017281,
     "end_time": "2023-02-21T11:47:55.266661",
     "exception": false,
     "start_time": "2023-02-21T11:47:55.249380",
     "status": "completed"
    },
    "tags": []
   },
   "outputs": [],
   "source": [
    "#q3.b.hint()"
   ]
  },
  {
   "cell_type": "code",
   "execution_count": 16,
   "id": "cdc508e3",
   "metadata": {
    "execution": {
     "iopub.execute_input": "2023-02-21T11:47:55.288549Z",
     "iopub.status.busy": "2023-02-21T11:47:55.287337Z",
     "iopub.status.idle": "2023-02-21T11:47:55.296814Z",
     "shell.execute_reply": "2023-02-21T11:47:55.295635Z"
    },
    "papermill": {
     "duration": 0.023142,
     "end_time": "2023-02-21T11:47:55.299169",
     "exception": false,
     "start_time": "2023-02-21T11:47:55.276027",
     "status": "completed"
    },
    "tags": []
   },
   "outputs": [
    {
     "data": {
      "application/javascript": [
       "parent.postMessage({\"jupyterEvent\": \"custom.exercise_interaction\", \"data\": {\"interactionType\": 3, \"questionType\": 4, \"questionId\": \"3.2_ArithmeticParensHard\", \"learnToolsVersion\": \"0.3.4\", \"valueTowardsCompletion\": 0.0, \"failureMessage\": \"\", \"exceptionClass\": \"\", \"trace\": \"\", \"outcomeType\": 4}}, \"*\")"
      ],
      "text/plain": [
       "<IPython.core.display.Javascript object>"
      ]
     },
     "metadata": {},
     "output_type": "display_data"
    },
    {
     "data": {
      "text/markdown": [
       "<span style=\"color:#33cc99\">Solution:</span> `(8 - 3) * (2 - (1 + 1))` is one solution. There may be others."
      ],
      "text/plain": [
       "Solution: `(8 - 3) * (2 - (1 + 1))` is one solution. There may be others."
      ]
     },
     "metadata": {},
     "output_type": "display_data"
    }
   ],
   "source": [
    "# Check your answer (Run this code cell to receive credit!)\n",
    "q3.b.solution()"
   ]
  },
  {
   "cell_type": "markdown",
   "id": "ed87f00e",
   "metadata": {
    "papermill": {
     "duration": 0.010068,
     "end_time": "2023-02-21T11:47:55.318279",
     "exception": false,
     "start_time": "2023-02-21T11:47:55.308211",
     "status": "completed"
    },
    "tags": []
   },
   "source": [
    "<hr/>\n",
    "\n",
    "# 4. \n",
    "Alice, Bob and Carol have agreed to pool their Halloween candy and split it evenly among themselves.\n",
    "For the sake of their friendship, any candies left over will be smashed. For example, if they collectively\n",
    "bring home 91 candies, they'll take 30 each and smash 1.\n",
    "\n",
    "Write an arithmetic expression below to calculate how many candies they must smash for a given haul."
   ]
  },
  {
   "cell_type": "code",
   "execution_count": 17,
   "id": "1fa8fcdc",
   "metadata": {
    "execution": {
     "iopub.execute_input": "2023-02-21T11:47:55.339077Z",
     "iopub.status.busy": "2023-02-21T11:47:55.338416Z",
     "iopub.status.idle": "2023-02-21T11:47:55.348346Z",
     "shell.execute_reply": "2023-02-21T11:47:55.347205Z"
    },
    "papermill": {
     "duration": 0.023139,
     "end_time": "2023-02-21T11:47:55.350653",
     "exception": false,
     "start_time": "2023-02-21T11:47:55.327514",
     "status": "completed"
    },
    "tags": []
   },
   "outputs": [
    {
     "data": {
      "application/javascript": [
       "parent.postMessage({\"jupyterEvent\": \"custom.exercise_interaction\", \"data\": {\"outcomeType\": 1, \"valueTowardsCompletion\": 0.25, \"interactionType\": 1, \"questionType\": 1, \"questionId\": \"4_CandySplitting\", \"learnToolsVersion\": \"0.3.4\", \"failureMessage\": \"\", \"exceptionClass\": \"\", \"trace\": \"\"}}, \"*\")"
      ],
      "text/plain": [
       "<IPython.core.display.Javascript object>"
      ]
     },
     "metadata": {},
     "output_type": "display_data"
    },
    {
     "data": {
      "text/markdown": [
       "<span style=\"color:#33cc33\">Correct</span>"
      ],
      "text/plain": [
       "Correct"
      ]
     },
     "metadata": {},
     "output_type": "display_data"
    }
   ],
   "source": [
    "# Variables representing the number of candies collected by alice, bob, and carol\n",
    "alice_candies = 121\n",
    "bob_candies = 77\n",
    "carol_candies = 109\n",
    "\n",
    "# Your code goes here! Replace the right-hand side of this assignment with an expression\n",
    "# involving alice_candies, bob_candies, and carol_candies\n",
    "summing = bob_candies+carol_candies+alice_candies\n",
    "to_smash = summing - 3*(summing//3)\n",
    "\n",
    "# Check your answer\n",
    "q4.check()"
   ]
  },
  {
   "cell_type": "code",
   "execution_count": 18,
   "id": "c751139d",
   "metadata": {
    "execution": {
     "iopub.execute_input": "2023-02-21T11:47:55.371573Z",
     "iopub.status.busy": "2023-02-21T11:47:55.370986Z",
     "iopub.status.idle": "2023-02-21T11:47:55.376712Z",
     "shell.execute_reply": "2023-02-21T11:47:55.375213Z"
    },
    "papermill": {
     "duration": 0.019403,
     "end_time": "2023-02-21T11:47:55.379238",
     "exception": false,
     "start_time": "2023-02-21T11:47:55.359835",
     "status": "completed"
    },
    "tags": []
   },
   "outputs": [],
   "source": [
    "#q4.hint()\n",
    "#q4.solution()"
   ]
  },
  {
   "cell_type": "markdown",
   "id": "a86be917",
   "metadata": {
    "papermill": {
     "duration": 0.008865,
     "end_time": "2023-02-21T11:47:55.397452",
     "exception": false,
     "start_time": "2023-02-21T11:47:55.388587",
     "status": "completed"
    },
    "tags": []
   },
   "source": [
    "# Keep Going\n",
    "\n",
    "Next up, you'll **[learn to write new functions and understand functions others write](https://www.kaggle.com/colinmorris/functions-and-getting-help)**. This will make you at least 10 times more productive as a Python programmer. "
   ]
  },
  {
   "cell_type": "markdown",
   "id": "3fc206a8",
   "metadata": {
    "papermill": {
     "duration": 0.008714,
     "end_time": "2023-02-21T11:47:55.415230",
     "exception": false,
     "start_time": "2023-02-21T11:47:55.406516",
     "status": "completed"
    },
    "tags": []
   },
   "source": [
    "---\n",
    "\n",
    "\n",
    "\n",
    "\n",
    "*Have questions or comments? Visit the [course discussion forum](https://www.kaggle.com/learn/python/discussion) to chat with other learners.*"
   ]
  }
 ],
 "metadata": {
  "kernelspec": {
   "display_name": "Python 3",
   "language": "python",
   "name": "python3"
  },
  "language_info": {
   "codemirror_mode": {
    "name": "ipython",
    "version": 3
   },
   "file_extension": ".py",
   "mimetype": "text/x-python",
   "name": "python",
   "nbconvert_exporter": "python",
   "pygments_lexer": "ipython3",
   "version": "3.7.12"
  },
  "papermill": {
   "default_parameters": {},
   "duration": 10.166425,
   "end_time": "2023-02-21T11:47:56.046822",
   "environment_variables": {},
   "exception": null,
   "input_path": "__notebook__.ipynb",
   "output_path": "__notebook__.ipynb",
   "parameters": {},
   "start_time": "2023-02-21T11:47:45.880397",
   "version": "2.3.4"
  }
 },
 "nbformat": 4,
 "nbformat_minor": 5
}
