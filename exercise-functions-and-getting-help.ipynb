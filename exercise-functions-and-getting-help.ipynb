{
 "cells": [
  {
   "cell_type": "markdown",
   "id": "bd0e3ac2",
   "metadata": {
    "papermill": {
     "duration": 0.008209,
     "end_time": "2023-02-21T11:49:05.684442",
     "exception": false,
     "start_time": "2023-02-21T11:49:05.676233",
     "status": "completed"
    },
    "tags": []
   },
   "source": [
    "**This notebook is an exercise in the [Python](https://www.kaggle.com/learn/python) course.  You can reference the tutorial at [this link](https://www.kaggle.com/colinmorris/functions-and-getting-help).**\n",
    "\n",
    "---\n"
   ]
  },
  {
   "cell_type": "markdown",
   "id": "ea53f18c",
   "metadata": {
    "papermill": {
     "duration": 0.004224,
     "end_time": "2023-02-21T11:49:05.693730",
     "exception": false,
     "start_time": "2023-02-21T11:49:05.689506",
     "status": "completed"
    },
    "tags": []
   },
   "source": [
    "Functions are powerful. Try writing some yourself.\n",
    "\n",
    "As before, don't forget to run the setup code below before jumping into question 1."
   ]
  },
  {
   "cell_type": "code",
   "execution_count": 1,
   "id": "f8387de9",
   "metadata": {
    "_kg_hide-input": true,
    "_kg_hide-output": true,
    "execution": {
     "iopub.execute_input": "2023-02-21T11:49:05.705897Z",
     "iopub.status.busy": "2023-02-21T11:49:05.704315Z",
     "iopub.status.idle": "2023-02-21T11:49:05.767034Z",
     "shell.execute_reply": "2023-02-21T11:49:05.766089Z"
    },
    "papermill": {
     "duration": 0.072163,
     "end_time": "2023-02-21T11:49:05.770401",
     "exception": false,
     "start_time": "2023-02-21T11:49:05.698238",
     "status": "completed"
    },
    "tags": []
   },
   "outputs": [
    {
     "name": "stdout",
     "output_type": "stream",
     "text": [
      "Setup complete.\n"
     ]
    }
   ],
   "source": [
    "# SETUP. You don't need to worry for now about what this code does or how it works.\n",
    "from learntools.core import binder; binder.bind(globals())\n",
    "from learntools.python.ex2 import *\n",
    "print('Setup complete.')"
   ]
  },
  {
   "cell_type": "markdown",
   "id": "8d851099",
   "metadata": {
    "papermill": {
     "duration": 0.004375,
     "end_time": "2023-02-21T11:49:05.782232",
     "exception": false,
     "start_time": "2023-02-21T11:49:05.777857",
     "status": "completed"
    },
    "tags": []
   },
   "source": [
    "# 1.\n",
    "\n",
    "Complete the body of the following function according to its docstring.\n",
    "\n",
    "HINT: Python has a built-in function `round`."
   ]
  },
  {
   "cell_type": "code",
   "execution_count": 2,
   "id": "e240082c",
   "metadata": {
    "execution": {
     "iopub.execute_input": "2023-02-21T11:49:05.794925Z",
     "iopub.status.busy": "2023-02-21T11:49:05.794167Z",
     "iopub.status.idle": "2023-02-21T11:49:05.809692Z",
     "shell.execute_reply": "2023-02-21T11:49:05.808391Z"
    },
    "papermill": {
     "duration": 0.024377,
     "end_time": "2023-02-21T11:49:05.811711",
     "exception": false,
     "start_time": "2023-02-21T11:49:05.787334",
     "status": "completed"
    },
    "tags": []
   },
   "outputs": [
    {
     "data": {
      "application/javascript": [
       "parent.postMessage({\"jupyterEvent\": \"custom.exercise_interaction\", \"data\": {\"outcomeType\": 1, \"valueTowardsCompletion\": 0.16666666666666666, \"interactionType\": 1, \"questionType\": 2, \"questionId\": \"1_RoundFunctionProblem\", \"learnToolsVersion\": \"0.3.4\", \"failureMessage\": \"\", \"exceptionClass\": \"\", \"trace\": \"\"}}, \"*\")"
      ],
      "text/plain": [
       "<IPython.core.display.Javascript object>"
      ]
     },
     "metadata": {},
     "output_type": "display_data"
    },
    {
     "data": {
      "text/markdown": [
       "<span style=\"color:#33cc33\">Correct</span>"
      ],
      "text/plain": [
       "Correct"
      ]
     },
     "metadata": {},
     "output_type": "display_data"
    }
   ],
   "source": [
    "def round_to_two_places(num):\n",
    "    \"\"\"Return the given number rounded to two decimal places. \n",
    "    \n",
    "    >>> round_to_two_places(3.14159)\n",
    "    3.14\n",
    "    \"\"\"\n",
    "    # Replace this body with your own code.\n",
    "    # (\"pass\" is a keyword that does literally nothing. We used it as a placeholder\n",
    "    # because after we begin a code block, Python requires at least one line of code)\n",
    "    return round(num,ndigits = 2)\n",
    "\n",
    "# Check your answer\n",
    "q1.check()"
   ]
  },
  {
   "cell_type": "code",
   "execution_count": 3,
   "id": "9eec6acd",
   "metadata": {
    "execution": {
     "iopub.execute_input": "2023-02-21T11:49:05.823111Z",
     "iopub.status.busy": "2023-02-21T11:49:05.822675Z",
     "iopub.status.idle": "2023-02-21T11:49:05.829002Z",
     "shell.execute_reply": "2023-02-21T11:49:05.826651Z"
    },
    "papermill": {
     "duration": 0.015697,
     "end_time": "2023-02-21T11:49:05.832302",
     "exception": false,
     "start_time": "2023-02-21T11:49:05.816605",
     "status": "completed"
    },
    "tags": []
   },
   "outputs": [],
   "source": [
    "# Uncomment the following for a hint\n",
    "#q1.hint()\n",
    "# Or uncomment the following to peek at the solution\n",
    "#q1.solution()"
   ]
  },
  {
   "cell_type": "markdown",
   "id": "86ba13f8",
   "metadata": {
    "papermill": {
     "duration": 0.004504,
     "end_time": "2023-02-21T11:49:05.842038",
     "exception": false,
     "start_time": "2023-02-21T11:49:05.837534",
     "status": "completed"
    },
    "tags": []
   },
   "source": [
    "# 2.\n",
    "The help for `round` says that `ndigits` (the second argument) may be negative.\n",
    "What do you think will happen when it is? Try some examples in the following cell."
   ]
  },
  {
   "cell_type": "code",
   "execution_count": 4,
   "id": "ebd9b379",
   "metadata": {
    "execution": {
     "iopub.execute_input": "2023-02-21T11:49:05.854663Z",
     "iopub.status.busy": "2023-02-21T11:49:05.853408Z",
     "iopub.status.idle": "2023-02-21T11:49:05.862663Z",
     "shell.execute_reply": "2023-02-21T11:49:05.860637Z"
    },
    "papermill": {
     "duration": 0.019765,
     "end_time": "2023-02-21T11:49:05.866669",
     "exception": false,
     "start_time": "2023-02-21T11:49:05.846904",
     "status": "completed"
    },
    "tags": []
   },
   "outputs": [
    {
     "data": {
      "text/plain": [
       "0.0"
      ]
     },
     "execution_count": 4,
     "metadata": {},
     "output_type": "execute_result"
    }
   ],
   "source": [
    "# Put your test code here\n",
    "round(12.2,ndigits=-2)"
   ]
  },
  {
   "cell_type": "markdown",
   "id": "64b533a5",
   "metadata": {
    "papermill": {
     "duration": 0.005184,
     "end_time": "2023-02-21T11:49:05.877989",
     "exception": false,
     "start_time": "2023-02-21T11:49:05.872805",
     "status": "completed"
    },
    "tags": []
   },
   "source": [
    "Can you think of a case where this would be useful?  Once you're ready, run the code cell below to see the answer and to receive credit for completing the problem."
   ]
  },
  {
   "cell_type": "code",
   "execution_count": 5,
   "id": "f5338b07",
   "metadata": {
    "execution": {
     "iopub.execute_input": "2023-02-21T11:49:05.891740Z",
     "iopub.status.busy": "2023-02-21T11:49:05.891171Z",
     "iopub.status.idle": "2023-02-21T11:49:05.900347Z",
     "shell.execute_reply": "2023-02-21T11:49:05.899576Z"
    },
    "papermill": {
     "duration": 0.01844,
     "end_time": "2023-02-21T11:49:05.902196",
     "exception": false,
     "start_time": "2023-02-21T11:49:05.883756",
     "status": "completed"
    },
    "tags": []
   },
   "outputs": [
    {
     "data": {
      "application/javascript": [
       "parent.postMessage({\"jupyterEvent\": \"custom.exercise_interaction\", \"data\": {\"interactionType\": 3, \"questionType\": 4, \"questionId\": \"2_RoundNdigitsProblem\", \"learnToolsVersion\": \"0.3.4\", \"valueTowardsCompletion\": 0.0, \"failureMessage\": \"\", \"exceptionClass\": \"\", \"trace\": \"\", \"outcomeType\": 4}}, \"*\")"
      ],
      "text/plain": [
       "<IPython.core.display.Javascript object>"
      ]
     },
     "metadata": {},
     "output_type": "display_data"
    },
    {
     "data": {
      "text/markdown": [
       "<span style=\"color:#33cc99\">Solution:</span> As you've seen, `ndigits=-1` rounds to the nearest 10, `ndigits=-2` rounds to the nearest 100 and so on. Where might this be useful? Suppose we're dealing with large numbers:\n",
       "\n",
       "> The area of Finland is 338,424 km²  \n",
       "> The area of Greenland is 2,166,086 km²\n",
       "\n",
       "We probably don't care whether it's really 338,424, or 338,425, or 338,177. All those digits of accuracy are just distracting. We can chop them off by calling `round()` with `ndigits=-3`:\n",
       "\n",
       "> The area of Finland is 338,000 km²  \n",
       "> The area of Greenland is 2,166,000 km²\n",
       "\n",
       "(We'll talk about how we would get the commas later when we talk about string formatting :))\n"
      ],
      "text/plain": [
       "Solution: As you've seen, `ndigits=-1` rounds to the nearest 10, `ndigits=-2` rounds to the nearest 100 and so on. Where might this be useful? Suppose we're dealing with large numbers:\n",
       "\n",
       "> The area of Finland is 338,424 km²  \n",
       "> The area of Greenland is 2,166,086 km²\n",
       "\n",
       "We probably don't care whether it's really 338,424, or 338,425, or 338,177. All those digits of accuracy are just distracting. We can chop them off by calling `round()` with `ndigits=-3`:\n",
       "\n",
       "> The area of Finland is 338,000 km²  \n",
       "> The area of Greenland is 2,166,000 km²\n",
       "\n",
       "(We'll talk about how we would get the commas later when we talk about string formatting :))"
      ]
     },
     "metadata": {},
     "output_type": "display_data"
    }
   ],
   "source": [
    "# Check your answer (Run this code cell to receive credit!)\n",
    "q2.solution()"
   ]
  },
  {
   "cell_type": "markdown",
   "id": "1aa86f9f",
   "metadata": {
    "papermill": {
     "duration": 0.004764,
     "end_time": "2023-02-21T11:49:05.912220",
     "exception": false,
     "start_time": "2023-02-21T11:49:05.907456",
     "status": "completed"
    },
    "tags": []
   },
   "source": [
    "# 3.\n",
    "\n",
    "In the previous exercise, the candy-sharing friends Alice, Bob and Carol tried to split candies evenly. For the sake of their friendship, any candies left over would be smashed. For example, if they collectively bring home 91 candies, they'll take 30 each and smash 1.\n",
    "\n",
    "Below is a simple function that will calculate the number of candies to smash for *any* number of total candies.\n",
    "\n",
    "Modify it so that it optionally takes a second argument representing the number of friends the candies are being split between. If no second argument is provided, it should assume 3 friends, as before.\n",
    "\n",
    "Update the docstring to reflect this new behaviour."
   ]
  },
  {
   "cell_type": "code",
   "execution_count": 6,
   "id": "3c99ca72",
   "metadata": {
    "execution": {
     "iopub.execute_input": "2023-02-21T11:49:05.925443Z",
     "iopub.status.busy": "2023-02-21T11:49:05.924096Z",
     "iopub.status.idle": "2023-02-21T11:49:05.937557Z",
     "shell.execute_reply": "2023-02-21T11:49:05.935762Z"
    },
    "papermill": {
     "duration": 0.022787,
     "end_time": "2023-02-21T11:49:05.940000",
     "exception": false,
     "start_time": "2023-02-21T11:49:05.917213",
     "status": "completed"
    },
    "tags": []
   },
   "outputs": [
    {
     "data": {
      "application/javascript": [
       "parent.postMessage({\"jupyterEvent\": \"custom.exercise_interaction\", \"data\": {\"outcomeType\": 1, \"valueTowardsCompletion\": 0.16666666666666666, \"interactionType\": 1, \"questionType\": 2, \"questionId\": \"3_CandySmashingFunctionProblem\", \"learnToolsVersion\": \"0.3.4\", \"failureMessage\": \"\", \"exceptionClass\": \"\", \"trace\": \"\"}}, \"*\")"
      ],
      "text/plain": [
       "<IPython.core.display.Javascript object>"
      ]
     },
     "metadata": {},
     "output_type": "display_data"
    },
    {
     "data": {
      "text/markdown": [
       "<span style=\"color:#33cc33\">Correct</span>"
      ],
      "text/plain": [
       "Correct"
      ]
     },
     "metadata": {},
     "output_type": "display_data"
    }
   ],
   "source": [
    "def to_smash(total_candies,num_fr = 3):\n",
    "    \"\"\"Return the number of leftover candies that must be smashed after distributing\n",
    "    the given number of candies evenly between 3 friends.\n",
    "    \n",
    "    >>> to_smash(91)\n",
    "    1\n",
    "    \"\"\"\n",
    "    return total_candies % num_fr\n",
    "\n",
    "# Check your answer\n",
    "q3.check()"
   ]
  },
  {
   "cell_type": "code",
   "execution_count": 7,
   "id": "fa2c9545",
   "metadata": {
    "execution": {
     "iopub.execute_input": "2023-02-21T11:49:05.954117Z",
     "iopub.status.busy": "2023-02-21T11:49:05.953629Z",
     "iopub.status.idle": "2023-02-21T11:49:05.959531Z",
     "shell.execute_reply": "2023-02-21T11:49:05.957892Z"
    },
    "papermill": {
     "duration": 0.015817,
     "end_time": "2023-02-21T11:49:05.961731",
     "exception": false,
     "start_time": "2023-02-21T11:49:05.945914",
     "status": "completed"
    },
    "tags": []
   },
   "outputs": [],
   "source": [
    "#q3.hint()"
   ]
  },
  {
   "cell_type": "code",
   "execution_count": 8,
   "id": "50ee638e",
   "metadata": {
    "execution": {
     "iopub.execute_input": "2023-02-21T11:49:05.975207Z",
     "iopub.status.busy": "2023-02-21T11:49:05.974771Z",
     "iopub.status.idle": "2023-02-21T11:49:05.979061Z",
     "shell.execute_reply": "2023-02-21T11:49:05.978120Z"
    },
    "papermill": {
     "duration": 0.013534,
     "end_time": "2023-02-21T11:49:05.981017",
     "exception": false,
     "start_time": "2023-02-21T11:49:05.967483",
     "status": "completed"
    },
    "tags": []
   },
   "outputs": [],
   "source": [
    "#q3.solution()"
   ]
  },
  {
   "cell_type": "markdown",
   "id": "86212849",
   "metadata": {
    "papermill": {
     "duration": 0.006065,
     "end_time": "2023-02-21T11:49:05.992851",
     "exception": false,
     "start_time": "2023-02-21T11:49:05.986786",
     "status": "completed"
    },
    "tags": []
   },
   "source": [
    "# 4. (Optional)\n",
    "\n",
    "It may not be fun, but reading and understanding error messages will be an important part of your Python career.\n",
    "\n",
    "Each code cell below contains some commented buggy code. For each cell...\n",
    "\n",
    "1. Read the code and predict what you think will happen when it's run.\n",
    "2. Then uncomment the code and run it to see what happens. (**Tip**: In the kernel editor, you can highlight several lines and press `ctrl`+`/` to toggle commenting.)\n",
    "3. Fix the code (so that it accomplishes its intended purpose without throwing an exception)\n",
    "\n",
    "<!-- TODO: should this be autochecked? Delta is probably pretty small. -->"
   ]
  },
  {
   "cell_type": "code",
   "execution_count": 9,
   "id": "7822cb73",
   "metadata": {
    "execution": {
     "iopub.execute_input": "2023-02-21T11:49:06.007873Z",
     "iopub.status.busy": "2023-02-21T11:49:06.007464Z",
     "iopub.status.idle": "2023-02-21T11:49:06.015120Z",
     "shell.execute_reply": "2023-02-21T11:49:06.014145Z"
    },
    "papermill": {
     "duration": 0.018747,
     "end_time": "2023-02-21T11:49:06.017842",
     "exception": false,
     "start_time": "2023-02-21T11:49:05.999095",
     "status": "completed"
    },
    "tags": []
   },
   "outputs": [
    {
     "data": {
      "text/plain": [
       "10.0"
      ]
     },
     "execution_count": 9,
     "metadata": {},
     "output_type": "execute_result"
    }
   ],
   "source": [
    " round_to_two_places(9.9999)"
   ]
  },
  {
   "cell_type": "code",
   "execution_count": 10,
   "id": "12f24b47",
   "metadata": {
    "execution": {
     "iopub.execute_input": "2023-02-21T11:49:06.031467Z",
     "iopub.status.busy": "2023-02-21T11:49:06.031006Z",
     "iopub.status.idle": "2023-02-21T11:49:06.035643Z",
     "shell.execute_reply": "2023-02-21T11:49:06.034695Z"
    },
    "papermill": {
     "duration": 0.013923,
     "end_time": "2023-02-21T11:49:06.037597",
     "exception": false,
     "start_time": "2023-02-21T11:49:06.023674",
     "status": "completed"
    },
    "tags": []
   },
   "outputs": [],
   "source": [
    "x = -10\n",
    "y = 5\n",
    "# Which of the two variables above has the smallest absolute value?\n",
    "smallest_abs = min(abs(x),abs( y))"
   ]
  },
  {
   "cell_type": "code",
   "execution_count": 11,
   "id": "0f3f110a",
   "metadata": {
    "execution": {
     "iopub.execute_input": "2023-02-21T11:49:06.051020Z",
     "iopub.status.busy": "2023-02-21T11:49:06.050579Z",
     "iopub.status.idle": "2023-02-21T11:49:06.057234Z",
     "shell.execute_reply": "2023-02-21T11:49:06.055088Z"
    },
    "papermill": {
     "duration": 0.016891,
     "end_time": "2023-02-21T11:49:06.060371",
     "exception": false,
     "start_time": "2023-02-21T11:49:06.043480",
     "status": "completed"
    },
    "tags": []
   },
   "outputs": [
    {
     "name": "stdout",
     "output_type": "stream",
     "text": [
      "5\n"
     ]
    }
   ],
   "source": [
    "def f(x):\n",
    "    y = abs(x)\n",
    "    return y\n",
    "\n",
    "print(f(5))"
   ]
  },
  {
   "cell_type": "markdown",
   "id": "dc695af7",
   "metadata": {
    "papermill": {
     "duration": 0.005582,
     "end_time": "2023-02-21T11:49:06.073482",
     "exception": false,
     "start_time": "2023-02-21T11:49:06.067900",
     "status": "completed"
    },
    "tags": []
   },
   "source": [
    "# Keep Going\n",
    "\n",
    "Nice job with the code. Next up, you'll learn about *conditionals*, which you'll need to **[write interesting programs](https://www.kaggle.com/colinmorris/booleans-and-conditionals)**. "
   ]
  },
  {
   "cell_type": "markdown",
   "id": "a427d1d8",
   "metadata": {
    "papermill": {
     "duration": 0.005287,
     "end_time": "2023-02-21T11:49:06.084566",
     "exception": false,
     "start_time": "2023-02-21T11:49:06.079279",
     "status": "completed"
    },
    "tags": []
   },
   "source": [
    "---\n",
    "\n",
    "\n",
    "\n",
    "\n",
    "*Have questions or comments? Visit the [course discussion forum](https://www.kaggle.com/learn/python/discussion) to chat with other learners.*"
   ]
  }
 ],
 "metadata": {
  "kernelspec": {
   "display_name": "Python 3",
   "language": "python",
   "name": "python3"
  },
  "language_info": {
   "codemirror_mode": {
    "name": "ipython",
    "version": 3
   },
   "file_extension": ".py",
   "mimetype": "text/x-python",
   "name": "python",
   "nbconvert_exporter": "python",
   "pygments_lexer": "ipython3",
   "version": "3.7.12"
  },
  "papermill": {
   "default_parameters": {},
   "duration": 12.121155,
   "end_time": "2023-02-21T11:49:09.220551",
   "environment_variables": {},
   "exception": null,
   "input_path": "__notebook__.ipynb",
   "output_path": "__notebook__.ipynb",
   "parameters": {},
   "start_time": "2023-02-21T11:48:57.099396",
   "version": "2.3.4"
  }
 },
 "nbformat": 4,
 "nbformat_minor": 5
}
